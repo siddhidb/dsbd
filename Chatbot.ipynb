{
 "cells": [
  {
   "cell_type": "code",
   "execution_count": null,
   "id": "d891d930-6127-49ec-83ce-dd2a6c1c6506",
   "metadata": {},
   "outputs": [
    {
     "name": "stdout",
     "output_type": "stream",
     "text": [
      "Welcome to our store support chatbot! Type 'quit' to exit.\n"
     ]
    },
    {
     "name": "stdin",
     "output_type": "stream",
     "text": [
      ">  Hello\n"
     ]
    },
    {
     "name": "stdout",
     "output_type": "stream",
     "text": [
      "Hello! How can I help you today?\n"
     ]
    },
    {
     "name": "stdin",
     "output_type": "stream",
     "text": [
      ">  how much hours your store is open\n"
     ]
    },
    {
     "name": "stdout",
     "output_type": "stream",
     "text": [
      "Our store is open Monday to Saturday from 9 AM to 9 PM, and on Sundays from 10 AM to 6 PM.\n"
     ]
    }
   ],
   "source": [
    "import random\n",
    "\n",
    "# Define a few responses for each type of query\n",
    "greetings = [\"Hello! How can I help you today?\", \"Hi there! What can I do for you?\", \"Hello! How can I assist you?\"]\n",
    "store_hours = [\"Our store is open Monday to Saturday from 9 AM to 9 PM, and on Sundays from 10 AM to 6 PM.\"]\n",
    "order_status = [\"Please provide your Order ID so I can check the status for you.\"]\n",
    "product_availability = [\"Let me know the product name, and I’ll check if it's available.\"]\n",
    "goodbyes = [\"Thank you for visiting! Have a great day!\", \"Goodbye! Feel free to come back if you need more help.\"]\n",
    "\n",
    "# Function to get a random response based on user input\n",
    "def get_response(user_input):\n",
    "    user_input = user_input.lower()\n",
    "\n",
    "    if \"hi\" in user_input or \"hello\" in user_input:\n",
    "        return random.choice(greetings)\n",
    "    elif \"hours\" in user_input:\n",
    "        return random.choice(store_hours)\n",
    "    elif \"order\" in user_input:\n",
    "        return random.choice(order_status)\n",
    "    elif \"product\" in user_input:\n",
    "        return random.choice(product_availability)\n",
    "    elif \"bye\" in user_input:\n",
    "        return random.choice(goodbyes)\n",
    "    else:\n",
    "        return \"I'm here to assist with store hours, order status, and product availability.\"\n",
    "\n",
    "# Main chatbot loop\n",
    "def customer_service_bot():\n",
    "    print(\"Welcome to our store support chatbot! Type 'quit' to exit.\")\n",
    "    while True:\n",
    "        user_input = input(\"> \")\n",
    "        if user_input.lower() == \"quit\":\n",
    "            print(\"Goodbye!\")\n",
    "            break\n",
    "        else:\n",
    "            print(get_response(user_input))\n",
    "\n",
    "# Run the chatbot\n",
    "customer_service_bot()\n"
   ]
  },
  {
   "cell_type": "code",
   "execution_count": 4,
   "id": "2092c2ce-9175-4329-bc19-e180df148778",
   "metadata": {},
   "outputs": [
    {
     "data": {
      "text/html": [
       "<div>\n",
       "<style scoped>\n",
       "    .dataframe tbody tr th:only-of-type {\n",
       "        vertical-align: middle;\n",
       "    }\n",
       "\n",
       "    .dataframe tbody tr th {\n",
       "        vertical-align: top;\n",
       "    }\n",
       "\n",
       "    .dataframe thead th {\n",
       "        text-align: right;\n",
       "    }\n",
       "</style>\n",
       "<table border=\"1\" class=\"dataframe\">\n",
       "  <thead>\n",
       "    <tr style=\"text-align: right;\">\n",
       "      <th></th>\n",
       "      <th>v1</th>\n",
       "      <th>v2</th>\n",
       "    </tr>\n",
       "  </thead>\n",
       "  <tbody>\n",
       "    <tr>\n",
       "      <th>0</th>\n",
       "      <td>ham</td>\n",
       "      <td>Go until jurong point, crazy.. Available only ...</td>\n",
       "    </tr>\n",
       "    <tr>\n",
       "      <th>1</th>\n",
       "      <td>ham</td>\n",
       "      <td>Ok lar... Joking wif u oni...</td>\n",
       "    </tr>\n",
       "    <tr>\n",
       "      <th>2</th>\n",
       "      <td>spam</td>\n",
       "      <td>Free entry in 2 a wkly comp to win FA Cup fina...</td>\n",
       "    </tr>\n",
       "    <tr>\n",
       "      <th>3</th>\n",
       "      <td>ham</td>\n",
       "      <td>U dun say so early hor... U c already then say...</td>\n",
       "    </tr>\n",
       "    <tr>\n",
       "      <th>4</th>\n",
       "      <td>ham</td>\n",
       "      <td>Nah I don't think he goes to usf, he lives aro...</td>\n",
       "    </tr>\n",
       "  </tbody>\n",
       "</table>\n",
       "</div>"
      ],
      "text/plain": [
       "     v1                                                 v2\n",
       "0   ham  Go until jurong point, crazy.. Available only ...\n",
       "1   ham                      Ok lar... Joking wif u oni...\n",
       "2  spam  Free entry in 2 a wkly comp to win FA Cup fina...\n",
       "3   ham  U dun say so early hor... U c already then say...\n",
       "4   ham  Nah I don't think he goes to usf, he lives aro..."
      ]
     },
     "execution_count": 4,
     "metadata": {},
     "output_type": "execute_result"
    }
   ],
   "source": []
  },
  {
   "cell_type": "code",
   "execution_count": null,
   "id": "87a06ab1-38b2-4b2f-b79b-3e8fb927abad",
   "metadata": {},
   "outputs": [],
   "source": []
  }
 ],
 "metadata": {
  "kernelspec": {
   "display_name": "Python 3 (ipykernel)",
   "language": "python",
   "name": "python3"
  },
  "language_info": {
   "codemirror_mode": {
    "name": "ipython",
    "version": 3
   },
   "file_extension": ".py",
   "mimetype": "text/x-python",
   "name": "python",
   "nbconvert_exporter": "python",
   "pygments_lexer": "ipython3",
   "version": "3.11.3"
  }
 },
 "nbformat": 4,
 "nbformat_minor": 5
}
