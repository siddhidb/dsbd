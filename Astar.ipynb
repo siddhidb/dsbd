{
 "cells": [
  {
   "cell_type": "code",
   "execution_count": 2,
   "id": "565c013e-9329-4d6c-bd9b-1ca44a17543b",
   "metadata": {},
   "outputs": [
    {
     "name": "stdout",
     "output_type": "stream",
     "text": [
      "Path found: ['A', 'E', 'D', 'G']\n"
     ]
    },
    {
     "data": {
      "text/plain": [
       "['A', 'E', 'D', 'G']"
      ]
     },
     "execution_count": 2,
     "metadata": {},
     "output_type": "execute_result"
    }
   ],
   "source": [
    "def aStarAlgo(start_node, stop_node):\n",
    "    open_set = {start_node}\n",
    "    closed_set = set()\n",
    "    g = {}  # Store distance from starting node\n",
    "    parents = {}  # Map of parents for path reconstruction\n",
    "\n",
    "    # Distance of starting node from itself is zero\n",
    "    g[start_node] = 0\n",
    "    parents[start_node] = start_node\n",
    "\n",
    "    while open_set:\n",
    "        n = None\n",
    "        # Node with lowest f() is found\n",
    "        for v in open_set:\n",
    "            if n is None or g[v] + heuristic(v) < g[n] + heuristic(n):\n",
    "                n = v\n",
    "\n",
    "        if n == stop_node:\n",
    "            path = []\n",
    "            while parents[n] != n:\n",
    "                path.append(n)\n",
    "                n = parents[n]\n",
    "            path.append(start_node)\n",
    "            path.reverse()\n",
    "            print('Path found: {}'.format(path))\n",
    "            return path\n",
    "\n",
    "        for (m, weight) in get_neighbors(n):\n",
    "            if m not in open_set and m not in closed_set:\n",
    "                open_set.add(m)\n",
    "                parents[m] = n\n",
    "                g[m] = g[n] + weight\n",
    "            else:\n",
    "                if g[m] > g[n] + weight:\n",
    "                    g[m] = g[n] + weight\n",
    "                    parents[m] = n\n",
    "                    if m in closed_set:\n",
    "                        closed_set.remove(m)\n",
    "                        open_set.add(m)\n",
    "\n",
    "        open_set.remove(n)\n",
    "        closed_set.add(n)\n",
    "\n",
    "    print('Path does not exist!')\n",
    "    return None\n",
    "\n",
    "def get_neighbors(v):\n",
    "    return Graph_nodes.get(v, [])\n",
    "\n",
    "def heuristic(n):\n",
    "    H_dist = {\n",
    "        'A': 11,\n",
    "        'B': 6,\n",
    "        'C': 99,\n",
    "        'D': 1,\n",
    "        'E': 7,\n",
    "        'G': 0,\n",
    "    }\n",
    "    return H_dist.get(n, float('inf'))\n",
    "\n",
    "# Define the graph\n",
    "Graph_nodes = {\n",
    "    'A': [('B', 2), ('E', 3)],\n",
    "    'B': [('C', 1), ('G', 9)],\n",
    "    'C': [],\n",
    "    'E': [('D', 6)],\n",
    "    'D': [('G', 1)],\n",
    "}\n",
    "\n",
    "# Run the A* algorithm\n",
    "aStarAlgo('A', 'G')"
   ]
  },
  {
   "cell_type": "code",
   "execution_count": null,
   "id": "01d3ffeb-1f07-4fa0-b733-50aa6bfb61fc",
   "metadata": {},
   "outputs": [],
   "source": []
  }
 ],
 "metadata": {
  "kernelspec": {
   "display_name": "Python 3 (ipykernel)",
   "language": "python",
   "name": "python3"
  },
  "language_info": {
   "codemirror_mode": {
    "name": "ipython",
    "version": 3
   },
   "file_extension": ".py",
   "mimetype": "text/x-python",
   "name": "python",
   "nbconvert_exporter": "python",
   "pygments_lexer": "ipython3",
   "version": "3.11.3"
  }
 },
 "nbformat": 4,
 "nbformat_minor": 5
}
