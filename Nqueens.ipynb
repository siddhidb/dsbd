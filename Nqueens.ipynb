{
 "cells": [
  {
   "cell_type": "code",
   "execution_count": 1,
   "id": "f56ee774-5073-408d-a2c9-482d9704b9bf",
   "metadata": {},
   "outputs": [
    {
     "name": "stdin",
     "output_type": "stream",
     "text": [
      "Enter the number of queens (n):  8\n"
     ]
    },
    {
     "name": "stdout",
     "output_type": "stream",
     "text": [
      "Final 8-Queen Matrix:\n",
      "Q . . . . . . .\n",
      ". . . . Q . . .\n",
      ". . . . . . . Q\n",
      ". . . . . Q . .\n",
      ". . Q . . . . .\n",
      ". . . . . . Q .\n",
      ". Q . . . . . .\n",
      ". . . Q . . . .\n",
      "\n",
      "\n"
     ]
    }
   ],
   "source": [
    "# Function to check if a queen can be placed on the board\n",
    "def is_safe(board, row, col):\n",
    "    # Check this column on upper side\n",
    "    for i in range(row):\n",
    "        if board[i][col] == 1:\n",
    "            return False\n",
    "\n",
    "    # Check upper diagonal on left side\n",
    "    for i, j in zip(range(row, -1, -1), range(col, -1, -1)):\n",
    "        if board[i][j] == 1:\n",
    "            return False\n",
    "\n",
    "    # Check upper diagonal on right side\n",
    "    for i, j in zip(range(row, -1, -1), range(col, len(board))):\n",
    "        if board[i][j] == 1:\n",
    "            return False\n",
    "\n",
    "    return True\n",
    "\n",
    "\n",
    "# Backtracking function to place remaining queens\n",
    "def solve_queen(board, row):\n",
    "    n = len(board)\n",
    "\n",
    "    # Base case: If all queens are placed\n",
    "    if row >= n:\n",
    "        return True\n",
    "\n",
    "    # Try placing queen in all columns for the current row\n",
    "    for col in range(n):\n",
    "        if is_safe(board, row, col):\n",
    "            # Place queen\n",
    "            board[row][col] = 1\n",
    "\n",
    "            # Recur to place the rest of the queens\n",
    "            if solve_queen(board, row + 1):\n",
    "                return True\n",
    "\n",
    "            # Backtrack (remove the queen if placing it here leads to a failure)\n",
    "            board[row][col] = 0\n",
    "\n",
    "    # If no column could be found, return False (backtrack)\n",
    "    return False\n",
    "\n",
    "\n",
    "# Function to print the board\n",
    "def print_board(board):\n",
    "    for row in board:\n",
    "        print(\" \".join(\"Q\" if x == 1 else \".\" for x in row))\n",
    "    print(\"\\n\")\n",
    "\n",
    "\n",
    "# Function to solve the N-Queen problem\n",
    "def solve_n_queen(n):\n",
    "    # Initialize the NxN chessboard\n",
    "    board = [[0 for _ in range(n)] for _ in range(n)]\n",
    "\n",
    "    # Start solving from row 0 (placing first queen here)\n",
    "    if solve_queen(board, 0):\n",
    "        print(\"Final {}-Queen Matrix:\".format(n))\n",
    "        print_board(board)\n",
    "    else:\n",
    "        print(\"Solution does not exist for {} queens.\".format(n))\n",
    "\n",
    "\n",
    "# Example usage:\n",
    "n = int(input(\"Enter the number of queens (n): \"))\n",
    "solve_n_queen(n)\n"
   ]
  },
  {
   "cell_type": "code",
   "execution_count": null,
   "id": "e817d6c4-41eb-41e7-b75d-1ebbc1b241b2",
   "metadata": {},
   "outputs": [],
   "source": []
  }
 ],
 "metadata": {
  "kernelspec": {
   "display_name": "Python 3 (ipykernel)",
   "language": "python",
   "name": "python3"
  },
  "language_info": {
   "codemirror_mode": {
    "name": "ipython",
    "version": 3
   },
   "file_extension": ".py",
   "mimetype": "text/x-python",
   "name": "python",
   "nbconvert_exporter": "python",
   "pygments_lexer": "ipython3",
   "version": "3.11.3"
  }
 },
 "nbformat": 4,
 "nbformat_minor": 5
}
