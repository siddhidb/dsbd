{
 "cells": [
  {
   "cell_type": "code",
   "execution_count": 1,
   "id": "f4de1297-40eb-4b7e-9239-c0d789877d0c",
   "metadata": {},
   "outputs": [
    {
     "name": "stdout",
     "output_type": "stream",
     "text": [
      "Enter values for the leaf nodes:\n"
     ]
    },
    {
     "name": "stdin",
     "output_type": "stream",
     "text": [
      "Enter value for node 0:  6\n",
      "Enter value for node 1:  4\n",
      "Enter value for node 2:  3\n",
      "Enter value for node 3:  1\n",
      "Enter value for node 4:  0\n",
      "Enter value for node 5:  2\n",
      "Enter value for node 6:  7\n",
      "Enter value for node 7:  9\n"
     ]
    },
    {
     "name": "stdout",
     "output_type": "stream",
     "text": [
      "\n",
      "User-input values: [6, 4, 3, 1, 0, 2, 7, 9]\n",
      "\n",
      "The optimal value is: 3\n"
     ]
    }
   ],
   "source": [
    "MAX = 1000\n",
    "MIN = -1000\n",
    "\n",
    "# Minimax function with Alpha-Beta pruning\n",
    "def minimax(depth, node_index, maximizing_player, values, alpha, beta):\n",
    "    # Base case: if depth reaches 3, return the value at the current node\n",
    "    if depth == 3:\n",
    "        return values[node_index]\n",
    "\n",
    "    if maximizing_player:\n",
    "        best = MIN\n",
    "        # Explore both child nodes (left and right)\n",
    "        for i in range(2):\n",
    "            val = minimax(depth + 1, node_index * 2 + i, False, values, alpha, beta)\n",
    "            best = max(best, val)\n",
    "            alpha = max(alpha, best)\n",
    "            \n",
    "            # Alpha-Beta pruning: if beta is less than or equal to alpha, break out of the loop\n",
    "            if beta <= alpha:\n",
    "                break\n",
    "        return best\n",
    "    else:\n",
    "        best = MAX\n",
    "        # Explore both child nodes (left and right)\n",
    "        for i in range(2):\n",
    "            val = minimax(depth + 1, node_index * 2 + i, True, values, alpha, beta)\n",
    "            best = min(best, val)\n",
    "            beta = min(beta, best)\n",
    "\n",
    "            # Alpha-Beta pruning: if beta is less than or equal to alpha, break out of the loop\n",
    "            if beta <= alpha:\n",
    "                break\n",
    "        return best\n",
    "\n",
    "# Main function to interact with the user\n",
    "def main():\n",
    "    # Take user input for values (for a tree of 8 leaves)\n",
    "    values = []\n",
    "    print(\"Enter values for the leaf nodes:\")\n",
    "    for i in range(8):\n",
    "        value = int(input(f\"Enter value for node {i}: \"))\n",
    "        values.append(value)\n",
    "\n",
    "    # Print the user-input values\n",
    "    print(\"\\nUser-input values:\", values)\n",
    "\n",
    "    # Call the minimax function with the user-input values\n",
    "    result = minimax(0, 0, True, values, MIN, MAX)\n",
    "    print(\"\\nThe optimal value is:\", result)\n",
    "\n",
    "# Directly call the main function\n",
    "main()\n"
   ]
  },
  {
   "cell_type": "code",
   "execution_count": null,
   "id": "3cd23d25-7b1e-4ecf-9df5-d0f3bf786bde",
   "metadata": {},
   "outputs": [],
   "source": []
  }
 ],
 "metadata": {
  "kernelspec": {
   "display_name": "Python 3 (ipykernel)",
   "language": "python",
   "name": "python3"
  },
  "language_info": {
   "codemirror_mode": {
    "name": "ipython",
    "version": 3
   },
   "file_extension": ".py",
   "mimetype": "text/x-python",
   "name": "python",
   "nbconvert_exporter": "python",
   "pygments_lexer": "ipython3",
   "version": "3.11.3"
  }
 },
 "nbformat": 4,
 "nbformat_minor": 5
}
